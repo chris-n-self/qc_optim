{
 "cells": [
  {
   "cell_type": "code",
   "execution_count": 2,
   "metadata": {},
   "outputs": [
    {
     "ename": "ModuleNotFoundError",
     "evalue": "No module named 'cost_weighted_ops'",
     "output_type": "error",
     "traceback": [
      "\u001b[0;31m---------------------------------------------------------------------------\u001b[0m",
      "\u001b[0;31mModuleNotFoundError\u001b[0m                       Traceback (most recent call last)",
      "\u001b[0;32m<ipython-input-2-645f72a94de6>\u001b[0m in \u001b[0;36m<module>\u001b[0;34m\u001b[0m\n\u001b[1;32m      9\u001b[0m \u001b[0;34m\u001b[0m\u001b[0m\n\u001b[1;32m     10\u001b[0m \u001b[0msys\u001b[0m\u001b[0;34m.\u001b[0m\u001b[0mpath\u001b[0m\u001b[0;34m.\u001b[0m\u001b[0minsert\u001b[0m\u001b[0;34m(\u001b[0m\u001b[0;36m0\u001b[0m\u001b[0;34m,\u001b[0m \u001b[0;34m'../core/'\u001b[0m\u001b[0;34m)\u001b[0m\u001b[0;34m\u001b[0m\u001b[0;34m\u001b[0m\u001b[0m\n\u001b[0;32m---> 11\u001b[0;31m \u001b[0;32mfrom\u001b[0m \u001b[0mcost_weighted_ops\u001b[0m \u001b[0;32mimport\u001b[0m \u001b[0;34m*\u001b[0m\u001b[0;34m\u001b[0m\u001b[0;34m\u001b[0m\u001b[0m\n\u001b[0m\u001b[1;32m     12\u001b[0m \u001b[0;32mimport\u001b[0m \u001b[0mutilities\u001b[0m \u001b[0;32mas\u001b[0m \u001b[0mut\u001b[0m\u001b[0;34m\u001b[0m\u001b[0;34m\u001b[0m\u001b[0m\n",
      "\u001b[0;31mModuleNotFoundError\u001b[0m: No module named 'cost_weighted_ops'"
     ]
    }
   ],
   "source": [
    "import sys\n",
    "import pdb\n",
    "import numpy as np\n",
    "import qiskit as qk\n",
    "import GPyOpt\n",
    "\n",
    "from qiskit.quantum_info import Pauli\n",
    "from qiskit.aqua.operators import WeightedPauliOperator as wpo\n",
    "\n",
    "sys.path.insert(0, '../core/')\n",
    "from cost_weighted_ops import *\n",
    "import utilities as ut"
   ]
  },
  {
   "cell_type": "code",
   "execution_count": 2,
   "metadata": {},
   "outputs": [],
   "source": [
    "def ansatz(params):\n",
    "    c = qk.QuantumCircuit(3)\n",
    "    c.rx(params[0], 0)\n",
    "    c.rx(params[1], 1)\n",
    "    c.ry(params[2], 2)\n",
    "    c.barrier()\n",
    "    c.cnot(0,2) \n",
    "    c.cnot(1,2) \n",
    "    c.barrier()\n",
    "    c.rx(params[3], 0)\n",
    "    c.rx(params[4], 1)\n",
    "    c.ry(params[5], 2)\n",
    "    c.barrier()\n",
    "    return c"
   ]
  },
  {
   "cell_type": "code",
   "execution_count": 3,
   "metadata": {},
   "outputs": [
    {
     "data": {
      "image/png": "[encoded data removed]",
      "text/plain": [
       "<Figure size 599.592x204.68 with 1 Axes>"
      ]
     },
     "execution_count": 3,
     "metadata": {},
     "output_type": "execute_result"
    }
   ],
   "source": [
    "test_params = gen_params(6)\n",
    "test_circ = ansatz(test_params)\n",
    "test_circ.draw()"
   ]
  },
  {
   "cell_type": "code",
   "execution_count": 4,
   "metadata": {},
   "outputs": [
    {
     "name": "stdout",
     "output_type": "stream",
     "text": [
      "1 :    BackendStatus(backend_name='ibmq_16_melbourne', backend_version='2.0.6', operational=True, pending_jobs=5, status_msg='active')\n",
      "2 :    BackendStatus(backend_name='ibmq_vigo', backend_version='1.0.2', operational=True, pending_jobs=72, status_msg='active')\n",
      "3 :    BackendStatus(backend_name='qasm_simulator', backend_version='0.4.1', operational=True, pending_jobs=0, status_msg='')\n"
     ]
    },
    {
     "name": "stdin",
     "output_type": "stream",
     "text": [
      "SELECT IBM DEVICE: 3\n"
     ]
    },
    {
     "name": "stdout",
     "output_type": "stream",
     "text": [
      "Generated a new quantum instance\n",
      "Generated a new quantum instance\n"
     ]
    }
   ],
   "source": [
    "NB_SHOTS_DEFAULT = 256\n",
    "OPTIMIZATION_LEVEL_DEFAULT = 3\n",
    "# ===================\n",
    "# Choose a backend using the custom backend manager and generate an instance\n",
    "# ===================\n",
    "bem = ut.BackendManager()\n",
    "bem.get_current_status()\n",
    "chosen_device = int(input('SELECT IBM DEVICE:'))\n",
    "bem.get_backend(chosen_device, inplace=True)\n",
    "inst = bem.gen_instance_from_current(nb_shots=NB_SHOTS_DEFAULT, \n",
    "                                     optim_lvl=OPTIMIZATION_LEVEL_DEFAULT)\n",
    "inst_test = bem.gen_instance_from_current(nb_shots=8192, \n",
    "                                     optim_lvl=OPTIMIZATION_LEVEL_DEFAULT)"
   ]
  },
  {
   "cell_type": "code",
   "execution_count": 7,
   "metadata": {},
   "outputs": [],
   "source": [
    "ghz_ops = wpo([ \n",
    "    (1,Pauli.from_label('IZZ')),\n",
    "    (1,Pauli.from_label('XXX')),\n",
    "    (-1,Pauli.from_label('XYY')),\n",
    "    (-1,Pauli.from_label('YXY')),\n",
    "    (-1,Pauli.from_label('YYX')),\n",
    "    (1,Pauli.from_label('ZIZ')),\n",
    "    (1,Pauli.from_label('ZZI')),\n",
    "])\n",
    "ghz_fidelity = CostWeightedOps(ansatz=ansatz, instance = inst, operators=ghz_ops, nb_params=6)\n",
    "ghz_fidelity_test = CostWeightedOps(ansatz=ansatz, instance = inst_test, operators=ghz_ops, nb_params=6)"
   ]
  },
  {
   "cell_type": "code",
   "execution_count": 9,
   "metadata": {},
   "outputs": [
    {
     "name": "stdout",
     "output_type": "stream",
     "text": [
      "(-0.1171875+0j)\n",
      "(2.40625+0j)\n",
      "(0.640625+0j)\n",
      "(-0.2578125+0j)\n",
      "(-0.859375+0j)\n",
      "(4.0078125+0j)\n",
      "(-1.0546875+0j)\n",
      "(1.546875+0j)\n",
      "(-0.890625+0j)\n",
      "(-0.9296875+0j)\n",
      "(-1.1328125+0j)\n",
      "(0.1796875+0j)\n",
      "(-0.109375+0j)\n",
      "(-0.8984375+0j)\n",
      "(-0.7734375+0j)\n",
      "(2.3671875+0j)\n",
      "(-0.9296875+0j)\n",
      "(0.703125+0j)\n",
      "(-0.140625+0j)\n",
      "(-0.4765625+0j)\n",
      "(-0.40625+0j)\n",
      "(0.71875+0j)\n",
      "(0.2578125+0j)\n",
      "(1.6328125+0j)\n",
      "(-0.2890625+0j)\n",
      "(-0.7734375+0j)\n",
      "(-0.5625+0j)\n",
      "(-0.921875+0j)\n",
      "(-0.34375+0j)\n",
      "(3.078125+0j)\n",
      "start optim\n",
      "(2.9765625+0j)\n",
      "(2.421875+0j)\n",
      "(2.375+0j)\n",
      "(1.4765625+0j)\n",
      "(2.5625+0j)\n",
      "(4.8671875+0j)\n",
      "(4.859375+0j)\n",
      "(2.5625+0j)\n",
      "(5.8125+0j)\n",
      "(6.03125+0j)\n",
      "(4.3828125+0j)\n",
      "(3.15625+0j)\n",
      "(6.0625+0j)\n",
      "(6.078125+0j)\n",
      "(6.6015625+0j)\n",
      "(4.796875+0j)\n",
      "(4.90625+0j)\n",
      "(6.6796875+0j)\n",
      "(6.8359375+0j)\n",
      "(6.953125+0j)\n",
      "(6.8828125+0j)\n",
      "(6.9609375+0j)\n",
      "(6.96875+0j)\n",
      "(6.9296875+0j)\n",
      "(6.9765625+0j)\n",
      "(6.9921875+0j)\n",
      "(7+0j)\n",
      "(7+0j)\n",
      "(6.984375+0j)\n",
      "(6.84375+0j)\n",
      "(6.9873046875+0j)\n",
      "(6.990966796875+0j)\n",
      "\n",
      "Name : GP regression\n",
      "Objective : 0.47425573712457236\n",
      "Number of Parameters : 3\n",
      "Number of Optimization Parameters : 3\n",
      "Updates : True\n",
      "Parameters:\n",
      "  \u001b[1mGP_regression.         \u001b[0;0m  |                  value  |    constraints    |  priors\n",
      "  \u001b[1mMat52.variance         \u001b[0;0m  |     0.7239391589970958  |        +ve        |        \n",
      "  \u001b[1mMat52.lengthscale      \u001b[0;0m  |     2.6645730356827735  |        +ve        |        \n",
      "  \u001b[1mGaussian_noise.variance\u001b[0;0m  |  6.112000912277669e-06  |  1e-09,1000000.0  |        \n"
     ]
    },
    {
     "data": {
      "image/png": "[encoded data removed]",
      "text/plain": [
       "<Figure size 720x360 with 2 Axes>"
      ]
     },
     "metadata": {
      "needs_background": "light"
     },
     "output_type": "display_data"
    }
   ],
   "source": [
    "# ===================\n",
    "# BO Optim\n",
    "# No noise / Use of fidelity\n",
    "# 20/25 works\n",
    "#EPS = np.pi/2\n",
    "#DOMAIN_RED = [(x-EPS, x+EPS) for x in X_SOL]\n",
    "# ===================\n",
    "# setup\n",
    "NB_INIT = 30\n",
    "NB_ITER = 30\n",
    "X_SOL = np.pi/2 * np.array([[1.,1.,2.,1.,1.,1.]])\n",
    "DOMAIN_FULL = [(0, 2*np.pi) for i in range(6)]\n",
    "DOMAIN_BO = [{'name': str(i), 'type': 'continuous', 'domain': d} for i, d in enumerate(DOMAIN_FULL)]\n",
    "bo_args = ut.gen_default_argsbo()\n",
    "bo_args.update({'domain': DOMAIN_BO,'initial_design_numdata':NB_INIT})\n",
    "cost_bo = lambda x: 1-ghz_fidelity(x) \n",
    "\n",
    "#optim\n",
    "Bopt = GPyOpt.methods.BayesianOptimization(cost_bo, **bo_args)    \n",
    "print(\"start optim\")\n",
    "Bopt.run_optimization(max_iter = NB_ITER, eps = 0)\n",
    "\n",
    "# Results found\n",
    "(x_seen, y_seen), (x_exp,y_exp) = Bopt.get_best()\n",
    "ghz_fidelity_test(x_seen)\n",
    "ghz_fidelity_test(x_exp)\n",
    "print(Bopt.model.model)\n",
    "Bopt.plot_convergence()"
   ]
  },
  {
   "cell_type": "code",
   "execution_count": null,
   "metadata": {},
   "outputs": [],
   "source": []
  }
 ],
 "metadata": {
  "kernelspec": {
   "display_name": "Python 3",
   "language": "python",
   "name": "python3"
  },
  "language_info": {
   "codemirror_mode": {
    "name": "ipython",
    "version": 3
   },
   "file_extension": ".py",
   "mimetype": "text/x-python",
   "name": "python",
   "nbconvert_exporter": "python",
   "pygments_lexer": "ipython3",
   "version": "3.7.6"
  }
 },
 "nbformat": 4,
 "nbformat_minor": 4
}
