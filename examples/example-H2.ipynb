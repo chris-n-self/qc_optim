{
 "cells": [
  {
   "cell_type": "code",
   "execution_count": 1,
   "metadata": {},
   "outputs": [],
   "source": [
    "import sys\n",
    "import pdb\n",
    "import numpy as np\n",
    "import GPyOpt\n",
    "\n",
    "from matplotlib import pyplot as plt\n",
    "\n",
    "from qiskit import Aer, execute, transpile, QuantumCircuit\n",
    "from qiskit.quantum_info import Pauli\n",
    "from qiskit.aqua.operators import WeightedPauliOperator as wpo\n",
    "from qiskit.aqua.operators import TPBGroupedWeightedPauliOperator, Z2Symmetries\n",
    "from qiskit.aqua.algorithms import ExactEigensolver\n",
    "\n",
    "# from qiskit.chemistry import FermionicOperator\n",
    "# from qiskit.chemistry.drivers import PySCFDriver, UnitsType\n",
    "# from qiskit.chemistry.components.initial_states import HartreeFock\n",
    "# from qiskit.chemistry.components.variational_forms import UCCSD\n",
    "\n",
    "sys.path.insert(0, '../core/')\n",
    "from cost_weighted_ops import *\n",
    "from ansatz import *\n",
    "import utilities as ut"
   ]
  },
  {
   "cell_type": "code",
   "execution_count": 2,
   "metadata": {},
   "outputs": [],
   "source": [
    "def get_qubit_op(dist):\n",
    "    \"\"\" \"\"\"\n",
    "    from qiskit.chemistry import FermionicOperator\n",
    "    from qiskit.chemistry.drivers import PySCFDriver, UnitsType\n",
    "    from qiskit.aqua.operators import Z2Symmetries\n",
    "    \n",
    "    driver = PySCFDriver(atom=\"H .0 .0 .0; H .0 .0 \" + str(dist), unit=UnitsType.ANGSTROM, \n",
    "                         charge=0, spin=0, basis='sto3g')\n",
    "    molecule = driver.run()\n",
    "    repulsion_energy = molecule.nuclear_repulsion_energy\n",
    "    num_particles = molecule.num_alpha + molecule.num_beta\n",
    "    num_spin_orbitals = molecule.num_orbitals * 2\n",
    "    ferOp = FermionicOperator(h1=molecule.one_body_integrals, h2=molecule.two_body_integrals)\n",
    "    qubitOp = ferOp.mapping(map_type='parity', threshold=1E-8)\n",
    "    qubitOp = Z2Symmetries.two_qubit_reduction(qubitOp,num_particles)\n",
    "    shift = repulsion_energy\n",
    "    \n",
    "    return qubitOp, num_particles, num_spin_orbitals, shift"
   ]
  },
  {
   "cell_type": "code",
   "execution_count": 3,
   "metadata": {},
   "outputs": [],
   "source": [
    "dist = 0.7\n",
    "\n",
    "# make qubit ops\n",
    "qubitOp,num_particles,num_spin_orbitals,shift = get_qubit_op(dist)"
   ]
  },
  {
   "cell_type": "code",
   "execution_count": 4,
   "metadata": {},
   "outputs": [
    {
     "data": {
      "text/plain": [
       "2"
      ]
     },
     "execution_count": 4,
     "metadata": {},
     "output_type": "execute_result"
    }
   ],
   "source": [
    "num_particles"
   ]
  },
  {
   "cell_type": "code",
   "execution_count": 3,
   "metadata": {},
   "outputs": [],
   "source": [
    "n = 2\n",
    "depth = 3\n",
    "ansatz = RandomAnsatz(n,depth)"
   ]
  },
  {
   "cell_type": "code",
   "execution_count": 4,
   "metadata": {},
   "outputs": [
    {
     "data": {
      "image/png": "[encoded data removed]",
      "text/plain": [
       "<Figure size 599.592x144.48 with 1 Axes>"
      ]
     },
     "execution_count": 4,
     "metadata": {},
     "output_type": "execute_result"
    }
   ],
   "source": [
    "ansatz.circuit.draw()"
   ]
  },
  {
   "cell_type": "code",
   "execution_count": 5,
   "metadata": {},
   "outputs": [
    {
     "name": "stdout",
     "output_type": "stream",
     "text": [
      "1 :    BackendStatus(backend_name='ibmq_16_melbourne', backend_version='2.0.6', operational=True, pending_jobs=4, status_msg='active')\n",
      "2 :    BackendStatus(backend_name='ibmq_vigo', backend_version='1.0.2', operational=True, pending_jobs=11, status_msg='active')\n",
      "3 :    BackendStatus(backend_name='qasm_simulator', backend_version='0.4.1', operational=True, pending_jobs=0, status_msg='')\n"
     ]
    },
    {
     "name": "stdin",
     "output_type": "stream",
     "text": [
      "SELECT IBM DEVICE: 3\n"
     ]
    },
    {
     "name": "stdout",
     "output_type": "stream",
     "text": [
      "Generated a new quantum instance\n",
      "Generated a new quantum instance\n"
     ]
    }
   ],
   "source": [
    "NB_SHOTS_DEFAULT = 1024\n",
    "OPTIMIZATION_LEVEL_DEFAULT = 3\n",
    "# ===================\n",
    "# Choose a backend using the custom backend manager and generate an instance\n",
    "# ===================\n",
    "bem = ut.BackendManager()\n",
    "bem.get_current_status()\n",
    "chosen_device = int(input('SELECT IBM DEVICE:'))\n",
    "bem.get_backend(chosen_device, inplace=True)\n",
    "inst = bem.gen_instance_from_current(nb_shots=NB_SHOTS_DEFAULT,\n",
    "                                     optim_lvl=OPTIMIZATION_LEVEL_DEFAULT)\n",
    "inst_test = bem.gen_instance_from_current(nb_shots=8192,\n",
    "                                          optim_lvl=OPTIMIZATION_LEVEL_DEFAULT)"
   ]
  },
  {
   "cell_type": "code",
   "execution_count": 6,
   "metadata": {},
   "outputs": [
    {
     "name": "stdout",
     "output_type": "stream",
     "text": [
      "target E = -1.89216\n"
     ]
    }
   ],
   "source": [
    "dist = 0.7\n",
    "\n",
    "# make qubit ops\n",
    "qubitOp,num_particles,num_spin_orbitals,shift = get_qubit_op(dist)\n",
    "\n",
    "# get exact energy\n",
    "result = ExactEigensolver(qubitOp).run()\n",
    "exact_energy = result['energy'] #+shift\n",
    "print('target E = {0:.6g}'.format(result['energy']))\n",
    "\n",
    "# make Cost objs\n",
    "h2_fidelity = CostWeightedOps(ansatz=ansatz, instance=inst, operators=qubitOp)\n",
    "h2_fidelity_test = CostWeightedOps(ansatz=ansatz, instance=inst_test, operators=qubitOp)"
   ]
  },
  {
   "cell_type": "code",
   "execution_count": 25,
   "metadata": {},
   "outputs": [
    {
     "name": "stdout",
     "output_type": "stream",
     "text": [
      "(-0.5172844252374612+0j)\n",
      "(-1.0771630089048922+0j)\n",
      "(-0.5855165656233645+0j)\n",
      "(-1.0096122070606146+0j)\n",
      "(-0.9325842231445138+0j)\n",
      "(-1.4571818860808958+0j)\n",
      "(-0.6634681354685514+0j)\n",
      "(-0.3581504306225244+0j)\n",
      "(-1.299523016953629+0j)\n",
      "(-1.0673239965936512+0j)\n",
      "(-1.2090128345243976+0j)\n",
      "(-1.3315735052022069+0j)\n",
      "(-1.155840868081458+0j)\n",
      "(-1.0295935131126575+0j)\n",
      "(-1.0743162065960499+0j)\n",
      "(-1.0814440538266477+0j)\n",
      "(-0.5267154803676389+0j)\n",
      "(-1.7481225904270568+0j)\n",
      "(-1.209724853447895+0j)\n",
      "(-1.2335683450004915+0j)\n",
      "(-1.060268679067159+0j)\n",
      "(-0.6711964193991891+0j)\n",
      "(-0.892199985965482+0j)\n",
      "(-1.2140296836447326+0j)\n",
      "(-1.7190015561186929+0j)\n",
      "(-1.3514456398431909+0j)\n",
      "(-1.320896562827516+0j)\n",
      "(-0.6886727032373821+0j)\n",
      "(-1.0648686206849909+0j)\n",
      "(-1.3584524241617053+0j)\n",
      "start optim\n",
      "(-1.42558927786733+0j)\n",
      "(-1.71596723953597+0j)\n",
      "(-1.1597463176366591+0j)\n",
      "(-1.752700197197425+0j)\n",
      "(-1.5393198384251816+0j)\n",
      "(-1.5171951990514396+0j)\n",
      "(-1.7348220345204775+0j)\n",
      "(-1.780820874704793+0j)\n",
      "(-1.6786821352558658+0j)\n",
      "(-1.5408542458921335+0j)\n",
      "(-1.797359785429757+0j)\n",
      "(-1.25260601270599+0j)\n",
      "(-1.8615856769868802+0j)\n",
      "(-1.456968693121848+0j)\n",
      "(-1.4009164715153508+0j)\n",
      "(-1.6712896138595583+0j)\n",
      "(-0.5954132073573557+0j)\n",
      "(-1.2694945339310733+0j)\n",
      "(-1.382467738028788+0j)\n",
      "(-1.6206005954205318+0j)\n",
      "(-1.0565682615545724+0j)\n",
      "(-1.3267996298196583+0j)\n",
      "(-0.9020218087462626+0j)\n",
      "(-1.5253857257481869+0j)\n",
      "(-1.2780023359165045+0j)\n",
      "(-1.53933519305417+0j)\n",
      "(-1.7423601889628901+0j)\n",
      "(-1.4018100654446526+0j)\n",
      "(-1.627227842566855+0j)\n",
      "(-1.785908292518402+0j)\n",
      "(-1.225898407750797+0j)\n",
      "(-1.7923588060676903+0j)\n",
      "(-1.653319593138339+0j)\n",
      "(-1.7610163630314324+0j)\n",
      "(-1.8594396000684434+0j)\n",
      "(-1.6239119320176219+0j)\n",
      "(-1.0030595068648092+0j)\n",
      "(-1.666096548544501+0j)\n",
      "(-1.3724150784108657+0j)\n",
      "(-1.8008832018886824+0j)\n",
      "(-1.3812083287837251+0j)\n",
      "(-1.0376331087338644+0j)\n",
      "(-1.8412705671383058+0j)\n",
      "(-0.675993088522901+0j)\n",
      "(-1.403577718288111+0j)\n",
      "(-1.1947453723985046+0j)\n",
      "(-1.4364929868911325+0j)\n",
      "(-1.5086478028143047+0j)\n",
      "(-1.0515742084484339+0j)\n",
      "(-1.0540214819492733+0j)\n",
      "(-1.8653803003014575+0j)\n",
      "(-1.8752662221402505+0j)\n",
      "(-1.7720825056118803+0j)\n",
      "(-1.8739161940574878+0j)\n",
      "(-1.5923662287855411+0j)\n",
      "(-1.4933698034515364+0j)\n",
      "(-1.5256658198705986+0j)\n",
      "(-1.4654662318327465+0j)\n",
      "(-1.7877989085031287+0j)\n",
      "(-1.6606533788337836+0j)\n",
      "(-1.334691640476061+0j)\n",
      "(-1.8009846014032271+0j)\n",
      "(-1.7142702792221123+0j)\n",
      "(-1.8703232612208538+0j)\n",
      "(-1.152874264124111+0j)\n",
      "(-1.6717387304641376+0j)\n",
      "(-1.8638823521965187+0j)\n",
      "(-1.5566225212829972+0j)\n",
      "(-1.0526230399487935+0j)\n",
      "(-1.061363302451792+0j)\n",
      "(-1.6797605651900236+0j)\n",
      "(-1.8439211008349674+0j)\n",
      "(-1.694207952038223+0j)\n",
      "(-1.8729668686615875+0j)\n",
      "(-1.84930357383399+0j)\n",
      "(-1.8705733656165147+0j)\n",
      "(-1.8549914914023187+0j)\n",
      "(-1.7272031894575255+0j)\n",
      "(-1.8497015982518275+0j)\n",
      "(-1.817004879145903+0j)\n",
      "(-1.8259925677755375+0j)\n",
      "(-1.8671767667197745+0j)\n",
      "(-1.8402163790998967+0j)\n",
      "(-1.8618911215561862+0j)\n",
      "(-1.8573911358443806+0j)\n",
      "(-1.8616798265532901+0j)\n",
      "(-1.869820374160508+0j)\n",
      "(-1.8603378332776017+0j)\n",
      "(-1.8845040151655452+0j)\n",
      "(-1.8622848979871203+0j)\n",
      "(-1.877412299058687+0j)\n",
      "(-1.8523989761483275+0j)\n",
      "(-1.8734732188498975+0j)\n",
      "(-1.857785697134254+0j)\n",
      "(-1.876113363162667+0j)\n",
      "(-1.870169984660628+0j)\n",
      "(-1.8578341110519707+0j)\n",
      "(-1.8720686354524292+0j)\n",
      "(-1.8666281440107362+0j)\n",
      "(-1.8565236096201658+0j)\n",
      "(-1.875483389568313+0j)\n",
      "(-1.8717311284317382+0j)\n",
      "\n",
      "Name : GP regression\n",
      "Objective : 112.28139450208637\n",
      "Number of Parameters : 3\n",
      "Number of Optimization Parameters : 3\n",
      "Updates : True\n",
      "Parameters:\n",
      "  \u001b[1mGP_regression.         \u001b[0;0m  |                  value  |    constraints    |  priors\n",
      "  \u001b[1mMat52.variance         \u001b[0;0m  |      1.708732359986334  |        +ve        |        \n",
      "  \u001b[1mMat52.lengthscale      \u001b[0;0m  |      3.204092927282171  |        +ve        |        \n",
      "  \u001b[1mGaussian_noise.variance\u001b[0;0m  |  0.0002746282762973758  |  1e-09,1000000.0  |        \n"
     ]
    },
    {
     "data": {
      "image/png": "[encoded data removed]",
      "text/plain": [
       "<Figure size 720x360 with 2 Axes>"
      ]
     },
     "metadata": {
      "needs_background": "light"
     },
     "output_type": "display_data"
    }
   ],
   "source": [
    "# ===================\n",
    "# BO Optim\n",
    "# No noise / Use of fidelity\n",
    "# 20/25 works\n",
    "#EPS = np.pi/2\n",
    "#DOMAIN_RED = [(x-EPS, x+EPS) for x in X_SOL]\n",
    "# ===================\n",
    "# setup\n",
    "NB_INIT = 30\n",
    "NB_ITER = 100\n",
    "DOMAIN_FULL = [(0, 2*np.pi) for i in range(ansatz.nb_params)]\n",
    "DOMAIN_BO = [{'name': str(i), 'type': 'continuous', 'domain': d} for i, d in enumerate(DOMAIN_FULL)]\n",
    "bo_args = ut.gen_default_argsbo()\n",
    "bo_args.update({'domain': DOMAIN_BO,'initial_design_numdata':NB_INIT})\n",
    "cost_bo = h2_fidelity\n",
    "\n",
    "#optim\n",
    "Bopt = GPyOpt.methods.BayesianOptimization(cost_bo, **bo_args)    \n",
    "print(\"start optim\")\n",
    "Bopt.run_optimization(max_iter = NB_ITER, eps = 0)\n",
    "\n",
    "# Results found\n",
    "(x_seen, y_seen), (x_exp,y_exp) = Bopt.get_best()\n",
    "h2_fidelity_test(x_seen)\n",
    "h2_fidelity_test(x_exp)\n",
    "print(Bopt.model.model)\n",
    "Bopt.plot_convergence()"
   ]
  },
  {
   "cell_type": "code",
   "execution_count": 26,
   "metadata": {},
   "outputs": [],
   "source": [
    "(x_seen, y_seen), (x_exp,y_exp) = Bopt.get_best()"
   ]
  },
  {
   "cell_type": "code",
   "execution_count": 27,
   "metadata": {},
   "outputs": [
    {
     "name": "stdout",
     "output_type": "stream",
     "text": [
      "(-1.872542963366751+0j)\n",
      "(0.01961393487060037+0j)\n"
     ]
    }
   ],
   "source": [
    "print(h2_fidelity_test(x_exp)-exact_energy)"
   ]
  },
  {
   "cell_type": "code",
   "execution_count": 24,
   "metadata": {},
   "outputs": [
    {
     "name": "stdout",
     "output_type": "stream",
     "text": [
      "(-1.8663091269928176+0j)\n",
      "(0.025847771244533746+0j)\n"
     ]
    }
   ],
   "source": [
    "print(h2_fidelity_test(x_exp)-exact_energy)"
   ]
  },
  {
   "cell_type": "code",
   "execution_count": 17,
   "metadata": {},
   "outputs": [
    {
     "data": {
      "image/png": "[encoded data removed]",
      "text/plain": [
       "<Figure size 432x288 with 1 Axes>"
      ]
     },
     "metadata": {
      "needs_background": "light"
     },
     "output_type": "display_data"
    }
   ],
   "source": [
    "fig,ax = plt.subplots()\n",
    "plt.hist(low_counts_measurements)\n",
    "plt.hist(high_count_measurements)\n",
    "plt.show()"
   ]
  },
  {
   "cell_type": "code",
   "execution_count": 16,
   "metadata": {},
   "outputs": [
    {
     "name": "stdout",
     "output_type": "stream",
     "text": [
      "(-1.8707572612933507+0j)\n",
      "(-1.8721432650307734+0j)\n",
      "(-1.8711754496321007+0j)\n",
      "(-1.8715065701294487+0j)\n",
      "(-1.872823661244613+0j)\n",
      "(-1.8718060927937106+0j)\n",
      "(-1.8723365602836055+0j)\n",
      "(-1.8700580402931113+0j)\n",
      "(-1.8706261573558058+0j)\n",
      "(-1.8716810405958806+0j)\n",
      "(-1.8707760860797513+0j)\n",
      "(-1.872124440244373+0j)\n",
      "(-1.8703078099051438+0j)\n",
      "(-1.8738540027422008+0j)\n",
      "(-1.8718934954187407+0j)\n",
      "(-1.872711382093468+0j)\n",
      "(-1.8743095058701227+0j)\n",
      "(-1.8722370541791462+0j)\n",
      "(-1.8710628356973278+0j)\n",
      "(-1.8685096695686862+0j)\n",
      "(-1.8743780837087527+0j)\n",
      "(-1.8721304919840878+0j)\n",
      "(-1.8755516326233146+0j)\n",
      "(-1.8758827531206623+0j)\n",
      "(-1.871668602332823+0j)\n",
      "(-1.8739477918905738+0j)\n",
      "(-1.872430349431978+0j)\n",
      "(-1.8747713955213876+0j)\n",
      "(-1.8709693813325832+0j)\n",
      "(-1.8695712741157315+0j)\n",
      "(-1.866361918732109+0j)\n",
      "(-1.8753334608443675+0j)\n",
      "(-1.8741471388831201+0j)\n",
      "(-1.8698082706810786+0j)\n",
      "(-1.871518673608878+0j)\n",
      "(-1.8739286323205453+0j)\n",
      "(-1.871556323181678+0j)\n",
      "(-1.871930810207913+0j)\n",
      "(-1.870101741605626+0j)\n",
      "(-1.8735914600834827+0j)\n",
      "(-1.8770314255091096+0j)\n",
      "(-1.8696835532668765+0j)\n",
      "(-1.8717687780045387+0j)\n",
      "(-1.8739414053672308+0j)\n",
      "(-1.8712628522571306+0j)\n",
      "(-1.8737662653335427+0j)\n",
      "(-1.8729672034452154+0j)\n",
      "(-1.8726115412053808+0j)\n",
      "(-1.869908111569166+0j)\n",
      "(-1.869364871032586+0j)\n",
      "(-1.8749152725056182+0j)\n",
      "(-1.8754706165216273+0j)\n",
      "(-1.8713566414055034+0j)\n",
      "(-1.8729547651821579+0j)\n",
      "(-1.8720242645726577+0j)\n",
      "(-1.87521479516988+0j)\n",
      "(-1.8768004806834773+0j)\n",
      "(-1.8710006443820408+0j)\n",
      "(-1.872255544181918+0j)\n",
      "(-1.8747152559458151+0j)\n",
      "(-1.872886187343528+0j)\n",
      "(-1.8717062519056231+0j)\n",
      "(-1.8747902203077875+0j)\n",
      "(-1.8767752693737343+0j)\n",
      "(-1.8732979891589352+0j)\n",
      "(-1.874415733281553+0j)\n",
      "(-1.8759449444359495+0j)\n",
      "(-1.872755083405983+0j)\n",
      "(-1.8723365602836055+0j)\n",
      "(-1.873373288304536+0j)\n",
      "(-1.8729046773463005+0j)\n",
      "(-1.8702516703295713+0j)\n",
      "(-1.8761762240452098+0j)\n",
      "(-1.87474013247193+0j)\n",
      "(-1.8739847718961176+0j)\n",
      "(-1.8773373346967146+0j)\n",
      "(-1.8727987847184981+0j)\n",
      "(-1.8778617504468944+0j)\n",
      "(-1.8727675216690405+0j)\n",
      "(-1.8710130826450981+0j)\n",
      "(-1.8735978466068253+0j)\n",
      "(-1.8731608334816754+0j)\n",
      "(-1.8689655074802365+0j)\n",
      "(-1.8737975283830002+0j)\n",
      "(-1.872630031208153+0j)\n",
      "(-1.8725301903200655+0j)\n",
      "(-1.872736258619583+0j)\n",
      "(-1.8674860493780692+0j)\n",
      "(-1.870276546855686+0j)\n",
      "(-1.8695897641185035+0j)\n",
      "(-1.8733356387317353+0j)\n",
      "(-1.8706137190927485+0j)\n",
      "(-1.8733793400442507+0j)\n",
      "(-1.8721368785074306+0j)\n",
      "(-1.8732919374192203+0j)\n",
      "(-1.8761573992588099+0j)\n",
      "(-1.8748840094561605+0j)\n",
      "(-1.8717435666947957+0j)\n",
      "(-1.871930810207913+0j)\n",
      "(-1.8721120019813158+0j)\n",
      "(-1.8747149211621872+0j)\n",
      "(-1.8726172581614675+0j)\n",
      "(-1.8785606366635064+0j)\n",
      "(-1.8655255420546093+0j)\n",
      "(-1.867972815555449+0j)\n",
      "(-1.871818531056768+0j)\n",
      "(-1.8635273851583491+0j)\n",
      "(-1.872168141556888+0j)\n",
      "(-1.8712188161609877+0j)\n",
      "(-1.8791603515592867+0j)\n",
      "(-1.8662247630548492+0j)\n",
      "(-1.86647486745051+0j)\n",
      "(-1.8697719602427907+0j)\n",
      "(-1.8711193100565282+0j)\n",
      "(-1.872867362557128+0j)\n",
      "(-1.864226606158589+0j)\n",
      "(-1.869820374160508+0j)\n",
      "(-1.8816076250601264+0j)\n",
      "(-1.870169984660628+0j)\n",
      "(-1.8700704785561684+0j)\n",
      "(-1.8623790475535298+0j)\n",
      "(-1.872517752057008+0j)\n",
      "(-1.8816076250601264+0j)\n",
      "(-1.8794104559549476+0j)\n",
      "(-1.8785606366635064+0j)\n",
      "(-1.8726683503482096+0j)\n",
      "(-1.8805587935597665+0j)\n",
      "(-1.8689221409513495+0j)\n",
      "(-1.8747149211621872+0j)\n",
      "(-1.8783616244545878+0j)\n",
      "(-1.86787330945099+0j)\n",
      "(-1.8691211531602683+0j)\n",
      "(-1.881007910164346+0j)\n",
      "(-1.8719180371612276+0j)\n",
      "(-1.8640275939496704+0j)\n",
      "(-1.8629787624493106+0j)\n",
      "(-1.8592325530524505+0j)\n",
      "(-1.8731174669527888+0j)\n",
      "(-1.8817582233513277+0j)\n",
      "(-1.8652754376589489+0j)\n",
      "(-1.8707696995564083+0j)\n",
      "(-1.8680723216599084+0j)\n",
      "(-1.8686720365556888+0j)\n",
      "(-1.86717408845075+0j)\n",
      "(-1.8680723216599084+0j)\n",
      "(-1.8648263210543694+0j)\n",
      "(-1.8696213619515893+0j)\n",
      "(-1.8735665835573678+0j)\n",
      "(-1.8621800353446114+0j)\n",
      "(-1.8690216470558085+0j)\n",
      "(-1.8791603515592867+0j)\n",
      "(-1.872867362557128+0j)\n",
      "(-1.876113363162667+0j)\n",
      "(-1.8746154150577277+0j)\n",
      "(-1.865326529845691+0j)\n",
      "(-1.872517752057008+0j)\n",
      "(-1.875414142162427+0j)\n",
      "(-1.8644767105542495+0j)\n",
      "(-1.8683224260555689+0j)\n",
      "(-1.8611312038442516+0j)\n",
      "(-1.871719024952309+0j)\n",
      "(-1.866923984055089+0j)\n",
      "(-1.8768125841629069+0j)\n",
      "(-1.8657756464502702+0j)\n",
      "(-1.8729668686615875+0j)\n",
      "(-1.8749650255578476+0j)\n",
      "(-1.8735665835573678+0j)\n",
      "(-1.8727678564526689+0j)\n",
      "(-1.8739161940574878+0j)\n",
      "(-1.8686720365556888+0j)\n",
      "(-1.8665743735549691+0j)\n",
      "(-1.872068635452429+0j)\n",
      "(-1.8752151299535085+0j)\n",
      "(-1.8641271000541295+0j)\n",
      "(-1.871818531056768+0j)\n",
      "(-1.871369414452189+0j)\n",
      "(-1.871369414452189+0j)\n",
      "(-1.8722676476613476+0j)\n",
      "(-1.869820374160508+0j)\n",
      "(-1.869820374160508+0j)\n",
      "(-1.8747149211621872+0j)\n",
      "(-1.876613571953988+0j)\n",
      "(-1.8731174669527888+0j)\n",
      "(-1.8636779834495505+0j)\n",
      "(-1.8799590786639861+0j)\n",
      "(-1.871818531056768+0j)\n",
      "(-1.8801096769551875+0j)\n",
      "(-1.8750645316623071+0j)\n",
      "(-1.872517752057008+0j)\n",
      "(-1.8657756464502702+0j)\n",
      "(-1.8694707636603882+0j)\n",
      "(-1.8704200890562883+0j)\n",
      "(-1.8696213619515893+0j)\n",
      "(-1.8778614156632665+0j)\n",
      "(-1.8615803204488308+0j)\n",
      "(-1.8775118051631465+0j)\n",
      "(-1.8694707636603882+0j)\n",
      "(-1.8823068460603662+0j)\n",
      "(-1.8677227111597885+0j)\n",
      "(-1.8756642465580875+0j)\n"
     ]
    }
   ],
   "source": [
    "rand_vals = 2*np.pi*np.random.random(ansatz.nb_params)\n",
    "\n",
    "high_count_measurements = []\n",
    "for i in range(100):\n",
    "    high_count_measurements.append(h2_fidelity_test(x_exp))\n",
    "\n",
    "low_counts_measurements = []\n",
    "for i in range(100):\n",
    "    low_counts_measurements.append(h2_fidelity(x_exp))"
   ]
  },
  {
   "cell_type": "code",
   "execution_count": null,
   "metadata": {},
   "outputs": [],
   "source": []
  }
 ],
 "metadata": {
  "kernelspec": {
   "display_name": "Python 3",
   "language": "python",
   "name": "python3"
  },
  "language_info": {
   "codemirror_mode": {
    "name": "ipython",
    "version": 3
   },
   "file_extension": ".py",
   "mimetype": "text/x-python",
   "name": "python",
   "nbconvert_exporter": "python",
   "pygments_lexer": "ipython3",
   "version": "3.7.6"
  }
 },
 "nbformat": 4,
 "nbformat_minor": 4
}
